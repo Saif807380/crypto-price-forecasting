{
 "cells": [
  {
   "cell_type": "code",
   "execution_count": null,
   "metadata": {
    "colab": {
     "base_uri": "https://localhost:8080/",
     "height": 17
    },
    "id": "p0IhyBFu1O-6",
    "outputId": "ca4084b9-4228-482a-a0e5-fedc19f0f878"
   },
   "outputs": [
    {
     "data": {
      "text/html": [
       "        <script type=\"text/javascript\">\n",
       "        window.PlotlyConfig = {MathJaxConfig: 'local'};\n",
       "        if (window.MathJax) {MathJax.Hub.Config({SVG: {font: \"STIX-Web\"}});}\n",
       "        if (typeof require !== 'undefined') {\n",
       "        require.undef(\"plotly\");\n",
       "        requirejs.config({\n",
       "            paths: {\n",
       "                'plotly': ['https://cdn.plot.ly/plotly-latest.min']\n",
       "            }\n",
       "        });\n",
       "        require(['plotly'], function(Plotly) {\n",
       "            window._Plotly = Plotly;\n",
       "        });\n",
       "        }\n",
       "        </script>\n",
       "        "
      ]
     },
     "metadata": {},
     "output_type": "display_data"
    }
   ],
   "source": [
    "from math import sqrt\n",
    "from numpy import concatenate\n",
    "from matplotlib import pyplot\n",
    "import pandas as pd\n",
    "from datetime import datetime\n",
    "from sklearn.preprocessing import MinMaxScaler\n",
    "from sklearn.preprocessing import LabelEncoder\n",
    "from sklearn.metrics import mean_squared_error\n",
    "from keras.models import Sequential\n",
    "from keras.layers import Dense\n",
    "from keras.layers import LSTM\n",
    "import plotly.offline as py\n",
    "import plotly.graph_objs as go\n",
    "import numpy as np\n",
    "import seaborn as sns\n",
    "py.init_notebook_mode(connected=True)\n",
    "%matplotlib inline"
   ]
  },
  {
   "cell_type": "code",
   "execution_count": null,
   "metadata": {
    "id": "sN2S0Vq-1grl"
   },
   "outputs": [],
   "source": [
    "btc=pd.read_csv(\"BTC.csv\",index_col=\"Date\")"
   ]
  },
  {
   "cell_type": "code",
   "execution_count": null,
   "metadata": {
    "colab": {
     "base_uri": "https://localhost:8080/",
     "height": 449
    },
    "id": "hxTO1kgA1lvr",
    "outputId": "fd31a2f3-107c-40fc-d936-311a5ded72cf"
   },
   "outputs": [
    {
     "data": {
      "text/html": [
       "<div>\n",
       "<style scoped>\n",
       "    .dataframe tbody tr th:only-of-type {\n",
       "        vertical-align: middle;\n",
       "    }\n",
       "\n",
       "    .dataframe tbody tr th {\n",
       "        vertical-align: top;\n",
       "    }\n",
       "\n",
       "    .dataframe thead th {\n",
       "        text-align: right;\n",
       "    }\n",
       "</style>\n",
       "<table border=\"1\" class=\"dataframe\">\n",
       "  <thead>\n",
       "    <tr style=\"text-align: right;\">\n",
       "      <th></th>\n",
       "      <th>Price</th>\n",
       "      <th>Open</th>\n",
       "      <th>High</th>\n",
       "      <th>Low</th>\n",
       "      <th>Vol.</th>\n",
       "      <th>Change %</th>\n",
       "    </tr>\n",
       "    <tr>\n",
       "      <th>Date</th>\n",
       "      <th></th>\n",
       "      <th></th>\n",
       "      <th></th>\n",
       "      <th></th>\n",
       "      <th></th>\n",
       "      <th></th>\n",
       "    </tr>\n",
       "  </thead>\n",
       "  <tbody>\n",
       "    <tr>\n",
       "      <th>Oct 11, 2021</th>\n",
       "      <td>57,477.3</td>\n",
       "      <td>54,686.9</td>\n",
       "      <td>57,814.1</td>\n",
       "      <td>54,457.8</td>\n",
       "      <td>73.84K</td>\n",
       "      <td>5.10%</td>\n",
       "    </tr>\n",
       "    <tr>\n",
       "      <th>Oct 10, 2021</th>\n",
       "      <td>54,687.7</td>\n",
       "      <td>54,942.5</td>\n",
       "      <td>56,432.2</td>\n",
       "      <td>54,100.8</td>\n",
       "      <td>104.43K</td>\n",
       "      <td>-0.46%</td>\n",
       "    </tr>\n",
       "    <tr>\n",
       "      <th>Oct 09, 2021</th>\n",
       "      <td>54,942.5</td>\n",
       "      <td>53,924.1</td>\n",
       "      <td>55,430.8</td>\n",
       "      <td>53,711.7</td>\n",
       "      <td>64.65K</td>\n",
       "      <td>1.91%</td>\n",
       "    </tr>\n",
       "    <tr>\n",
       "      <th>Oct 08, 2021</th>\n",
       "      <td>53,914.7</td>\n",
       "      <td>53,785.5</td>\n",
       "      <td>55,977.9</td>\n",
       "      <td>53,659.3</td>\n",
       "      <td>64.05K</td>\n",
       "      <td>0.24%</td>\n",
       "    </tr>\n",
       "    <tr>\n",
       "      <th>Oct 07, 2021</th>\n",
       "      <td>53,783.9</td>\n",
       "      <td>55,325.2</td>\n",
       "      <td>55,325.6</td>\n",
       "      <td>53,476.4</td>\n",
       "      <td>75.68K</td>\n",
       "      <td>-2.78%</td>\n",
       "    </tr>\n",
       "    <tr>\n",
       "      <th>...</th>\n",
       "      <td>...</td>\n",
       "      <td>...</td>\n",
       "      <td>...</td>\n",
       "      <td>...</td>\n",
       "      <td>...</td>\n",
       "      <td>...</td>\n",
       "    </tr>\n",
       "    <tr>\n",
       "      <th>Jan 05, 2016</th>\n",
       "      <td>431.2</td>\n",
       "      <td>433.3</td>\n",
       "      <td>435.3</td>\n",
       "      <td>428.9</td>\n",
       "      <td>45.03K</td>\n",
       "      <td>-0.49%</td>\n",
       "    </tr>\n",
       "    <tr>\n",
       "      <th>Jan 04, 2016</th>\n",
       "      <td>433.3</td>\n",
       "      <td>430.7</td>\n",
       "      <td>435.3</td>\n",
       "      <td>428.6</td>\n",
       "      <td>53.01K</td>\n",
       "      <td>0.61%</td>\n",
       "    </tr>\n",
       "    <tr>\n",
       "      <th>Jan 03, 2016</th>\n",
       "      <td>430.7</td>\n",
       "      <td>433.7</td>\n",
       "      <td>434.1</td>\n",
       "      <td>423.1</td>\n",
       "      <td>54.83K</td>\n",
       "      <td>-0.70%</td>\n",
       "    </tr>\n",
       "    <tr>\n",
       "      <th>Jan 02, 2016</th>\n",
       "      <td>433.7</td>\n",
       "      <td>434.0</td>\n",
       "      <td>437.4</td>\n",
       "      <td>430.7</td>\n",
       "      <td>33.57K</td>\n",
       "      <td>-0.06%</td>\n",
       "    </tr>\n",
       "    <tr>\n",
       "      <th>Jan 01, 2016</th>\n",
       "      <td>434.0</td>\n",
       "      <td>430.0</td>\n",
       "      <td>438.0</td>\n",
       "      <td>425.9</td>\n",
       "      <td>46.97K</td>\n",
       "      <td>0.94%</td>\n",
       "    </tr>\n",
       "  </tbody>\n",
       "</table>\n",
       "<p>2111 rows × 6 columns</p>\n",
       "</div>"
      ],
      "text/plain": [
       "                 Price      Open      High       Low     Vol. Change %\n",
       "Date                                                                  \n",
       "Oct 11, 2021  57,477.3  54,686.9  57,814.1  54,457.8   73.84K    5.10%\n",
       "Oct 10, 2021  54,687.7  54,942.5  56,432.2  54,100.8  104.43K   -0.46%\n",
       "Oct 09, 2021  54,942.5  53,924.1  55,430.8  53,711.7   64.65K    1.91%\n",
       "Oct 08, 2021  53,914.7  53,785.5  55,977.9  53,659.3   64.05K    0.24%\n",
       "Oct 07, 2021  53,783.9  55,325.2  55,325.6  53,476.4   75.68K   -2.78%\n",
       "...                ...       ...       ...       ...      ...      ...\n",
       "Jan 05, 2016     431.2     433.3     435.3     428.9   45.03K   -0.49%\n",
       "Jan 04, 2016     433.3     430.7     435.3     428.6   53.01K    0.61%\n",
       "Jan 03, 2016     430.7     433.7     434.1     423.1   54.83K   -0.70%\n",
       "Jan 02, 2016     433.7     434.0     437.4     430.7   33.57K   -0.06%\n",
       "Jan 01, 2016     434.0     430.0     438.0     425.9   46.97K    0.94%\n",
       "\n",
       "[2111 rows x 6 columns]"
      ]
     },
     "execution_count": 135,
     "metadata": {},
     "output_type": "execute_result"
    }
   ],
   "source": [
    "btc"
   ]
  },
  {
   "cell_type": "code",
   "execution_count": null,
   "metadata": {
    "colab": {
     "base_uri": "https://localhost:8080/"
    },
    "id": "aK6MJy-N1m2x",
    "outputId": "40fb984a-cf42-4913-bc67-041f1885bd94"
   },
   "outputs": [
    {
     "name": "stdout",
     "output_type": "stream",
     "text": [
      "<class 'pandas.core.frame.DataFrame'>\n",
      "Index: 2111 entries, Oct 11, 2021 to Jan 01, 2016\n",
      "Data columns (total 6 columns):\n",
      " #   Column    Non-Null Count  Dtype \n",
      "---  ------    --------------  ----- \n",
      " 0   Price     2111 non-null   object\n",
      " 1   Open      2111 non-null   object\n",
      " 2   High      2111 non-null   object\n",
      " 3   Low       2111 non-null   object\n",
      " 4   Vol.      2111 non-null   object\n",
      " 5   Change %  2111 non-null   object\n",
      "dtypes: object(6)\n",
      "memory usage: 115.4+ KB\n"
     ]
    }
   ],
   "source": [
    "btc.info()"
   ]
  },
  {
   "cell_type": "code",
   "execution_count": null,
   "metadata": {
    "id": "YiYaXxsg1qEJ"
   },
   "outputs": [],
   "source": [
    "btc['Price'] = btc['Price'].replace(',','', regex=True)"
   ]
  },
  {
   "cell_type": "code",
   "execution_count": null,
   "metadata": {
    "colab": {
     "base_uri": "https://localhost:8080/",
     "height": 235
    },
    "id": "I-EjmEEB1u23",
    "outputId": "3f36a8e6-c24a-4653-a5b6-028636e190bc"
   },
   "outputs": [
    {
     "data": {
      "text/html": [
       "<div>\n",
       "<style scoped>\n",
       "    .dataframe tbody tr th:only-of-type {\n",
       "        vertical-align: middle;\n",
       "    }\n",
       "\n",
       "    .dataframe tbody tr th {\n",
       "        vertical-align: top;\n",
       "    }\n",
       "\n",
       "    .dataframe thead th {\n",
       "        text-align: right;\n",
       "    }\n",
       "</style>\n",
       "<table border=\"1\" class=\"dataframe\">\n",
       "  <thead>\n",
       "    <tr style=\"text-align: right;\">\n",
       "      <th></th>\n",
       "      <th>Price</th>\n",
       "      <th>Open</th>\n",
       "      <th>High</th>\n",
       "      <th>Low</th>\n",
       "      <th>Vol.</th>\n",
       "      <th>Change %</th>\n",
       "    </tr>\n",
       "    <tr>\n",
       "      <th>Date</th>\n",
       "      <th></th>\n",
       "      <th></th>\n",
       "      <th></th>\n",
       "      <th></th>\n",
       "      <th></th>\n",
       "      <th></th>\n",
       "    </tr>\n",
       "  </thead>\n",
       "  <tbody>\n",
       "    <tr>\n",
       "      <th>Oct 11, 2021</th>\n",
       "      <td>57477.3</td>\n",
       "      <td>54,686.9</td>\n",
       "      <td>57,814.1</td>\n",
       "      <td>54,457.8</td>\n",
       "      <td>73.84K</td>\n",
       "      <td>5.10%</td>\n",
       "    </tr>\n",
       "    <tr>\n",
       "      <th>Oct 10, 2021</th>\n",
       "      <td>54687.7</td>\n",
       "      <td>54,942.5</td>\n",
       "      <td>56,432.2</td>\n",
       "      <td>54,100.8</td>\n",
       "      <td>104.43K</td>\n",
       "      <td>-0.46%</td>\n",
       "    </tr>\n",
       "    <tr>\n",
       "      <th>Oct 09, 2021</th>\n",
       "      <td>54942.5</td>\n",
       "      <td>53,924.1</td>\n",
       "      <td>55,430.8</td>\n",
       "      <td>53,711.7</td>\n",
       "      <td>64.65K</td>\n",
       "      <td>1.91%</td>\n",
       "    </tr>\n",
       "    <tr>\n",
       "      <th>Oct 08, 2021</th>\n",
       "      <td>53914.7</td>\n",
       "      <td>53,785.5</td>\n",
       "      <td>55,977.9</td>\n",
       "      <td>53,659.3</td>\n",
       "      <td>64.05K</td>\n",
       "      <td>0.24%</td>\n",
       "    </tr>\n",
       "    <tr>\n",
       "      <th>Oct 07, 2021</th>\n",
       "      <td>53783.9</td>\n",
       "      <td>55,325.2</td>\n",
       "      <td>55,325.6</td>\n",
       "      <td>53,476.4</td>\n",
       "      <td>75.68K</td>\n",
       "      <td>-2.78%</td>\n",
       "    </tr>\n",
       "  </tbody>\n",
       "</table>\n",
       "</div>"
      ],
      "text/plain": [
       "                Price      Open      High       Low     Vol. Change %\n",
       "Date                                                                 \n",
       "Oct 11, 2021  57477.3  54,686.9  57,814.1  54,457.8   73.84K    5.10%\n",
       "Oct 10, 2021  54687.7  54,942.5  56,432.2  54,100.8  104.43K   -0.46%\n",
       "Oct 09, 2021  54942.5  53,924.1  55,430.8  53,711.7   64.65K    1.91%\n",
       "Oct 08, 2021  53914.7  53,785.5  55,977.9  53,659.3   64.05K    0.24%\n",
       "Oct 07, 2021  53783.9  55,325.2  55,325.6  53,476.4   75.68K   -2.78%"
      ]
     },
     "execution_count": 138,
     "metadata": {},
     "output_type": "execute_result"
    }
   ],
   "source": [
    "btc.head()"
   ]
  },
  {
   "cell_type": "code",
   "execution_count": null,
   "metadata": {
    "id": "FxaDVFQP1wTs"
   },
   "outputs": [],
   "source": [
    "btc['Price'] = btc['Price'].astype(float, errors = 'raise')"
   ]
  },
  {
   "cell_type": "code",
   "execution_count": null,
   "metadata": {
    "colab": {
     "base_uri": "https://localhost:8080/"
    },
    "id": "6H6qFqFS102N",
    "outputId": "3eeb1dd3-0eb7-4589-df15-c9284a984e94"
   },
   "outputs": [
    {
     "data": {
      "text/plain": [
       "Index(['Jan 01, 2016', 'Jan 02, 2016', 'Jan 03, 2016', 'Jan 04, 2016',\n",
       "       'Jan 05, 2016', 'Jan 06, 2016', 'Jan 07, 2016', 'Jan 08, 2016',\n",
       "       'Jan 09, 2016', 'Jan 10, 2016',\n",
       "       ...\n",
       "       'Oct 02, 2021', 'Oct 03, 2021', 'Oct 04, 2021', 'Oct 05, 2021',\n",
       "       'Oct 06, 2021', 'Oct 07, 2021', 'Oct 08, 2021', 'Oct 09, 2021',\n",
       "       'Oct 10, 2021', 'Oct 11, 2021'],\n",
       "      dtype='object', name='Date', length=2111)"
      ]
     },
     "execution_count": 140,
     "metadata": {},
     "output_type": "execute_result"
    }
   ],
   "source": [
    "btc.index[::-1]"
   ]
  },
  {
   "cell_type": "code",
   "execution_count": null,
   "metadata": {
    "colab": {
     "base_uri": "https://localhost:8080/",
     "height": 621
    },
    "id": "fFMwq6Pp14A_",
    "outputId": "f0758a4c-3f6c-4f17-f97f-bd4f883786ca"
   },
   "outputs": [
    {
     "data": {
      "image/png": "[encoded data removed]",
      "text/plain": [
       "<Figure size 1440x720 with 1 Axes>"
      ]
     },
     "metadata": {
      "needs_background": "light"
     },
     "output_type": "display_data"
    }
   ],
   "source": [
    "pyplot.figure(figsize=(20,10))\n",
    "pyplot.plot(btc.index[::-1][:1000],btc['Price'][::-1][:1000])\n",
    "pyplot.xlabel(\"Date\")  \n",
    "pyplot.ylabel(\"Price\") \n",
    "pyplot.title(\"BTC from 2016 to 2018\")  \n",
    "pyplot.show()"
   ]
  },
  {
   "cell_type": "code",
   "execution_count": null,
   "metadata": {
    "colab": {
     "base_uri": "https://localhost:8080/",
     "height": 621
    },
    "id": "kf738pqy2GyN",
    "outputId": "52cb6a89-3938-44b7-e9b0-15a33662d6e1"
   },
   "outputs": [
    {
     "data": {
      "image/png": "[encoded data removed]",
      "text/plain": [
       "<Figure size 1440x720 with 1 Axes>"
      ]
     },
     "metadata": {
      "needs_background": "light"
     },
     "output_type": "display_data"
    }
   ],
   "source": [
    "pyplot.figure(figsize=(20,10))\n",
    "pyplot.plot(btc.index[::-1][1000:],btc['Price'][::-1][1000:])\n",
    "pyplot.xlabel(\"Date\")  \n",
    "pyplot.ylabel(\"Price\") \n",
    "pyplot.title(\"BTC last 2.5 Years\")  \n",
    "pyplot.show()\n"
   ]
  },
  {
   "cell_type": "code",
   "execution_count": null,
   "metadata": {
    "id": "MEkZewED2fJV"
   },
   "outputs": [],
   "source": [
    "from sklearn.preprocessing import MinMaxScaler\n",
    "values = btc['Price'][::-1].values.reshape(-1,1)\n",
    "values = values.astype('float32')\n",
    "scaler = MinMaxScaler(feature_range=(0, 1))\n",
    "scaled = scaler.fit_transform(values)"
   ]
  },
  {
   "cell_type": "code",
   "execution_count": null,
   "metadata": {
    "colab": {
     "base_uri": "https://localhost:8080/"
    },
    "id": "mXMqvY732kTu",
    "outputId": "c041e3bc-37f0-49a6-e181-f94f0f205cb0"
   },
   "outputs": [
    {
     "name": "stdout",
     "output_type": "stream",
     "text": [
      "1477 634\n",
      "[[0.00104475]\n",
      " [0.00104   ]\n",
      " [0.00099251]\n",
      " ...\n",
      " [0.1339372 ]\n",
      " [0.13376464]\n",
      " [0.13231783]]\n",
      "[[0.00104475]\n",
      " [0.00104   ]\n",
      " [0.00099251]\n",
      " ...\n",
      " [0.86389107]\n",
      " [0.8598577 ]\n",
      " [0.9040159 ]]\n"
     ]
    }
   ],
   "source": [
    "train_size = int(len(scaled) * 0.7)\n",
    "test_size = len(scaled) - train_size\n",
    "train, test = scaled[0:train_size,:], scaled[train_size:len(scaled),:]\n",
    "print(len(train), len(test))\n",
    "print(train)\n",
    "print(scaled)"
   ]
  },
  {
   "cell_type": "code",
   "execution_count": null,
   "metadata": {
    "id": "ARpT6FEH2obU"
   },
   "outputs": [],
   "source": [
    "def create_dataset(dataset, look_back=1):\n",
    "    dataX, dataY = [], []\n",
    "    for i in range(len(dataset) - look_back):\n",
    "        a = dataset[i:(i + look_back), 0]\n",
    "        dataX.append(a)\n",
    "        dataY.append(dataset[i + look_back, 0])\n",
    "    print(len(dataY))\n",
    "    return np.array(dataX), np.array(dataY)"
   ]
  },
  {
   "cell_type": "code",
   "execution_count": null,
   "metadata": {
    "colab": {
     "base_uri": "https://localhost:8080/"
    },
    "id": "Xi4Os-wY2qyz",
    "outputId": "af618adf-0fcd-4c5b-b482-7ee83aeef680"
   },
   "outputs": [
    {
     "name": "stdout",
     "output_type": "stream",
     "text": [
      "1476\n",
      "633\n",
      "[[0.00104475]\n",
      " [0.00104   ]\n",
      " [0.00099251]\n",
      " ...\n",
      " [0.12257472]\n",
      " [0.1339372 ]\n",
      " [0.13376464]] [0.00104    0.00099251 0.00103367 ... 0.1339372  0.13376464 0.13231783]\n"
     ]
    }
   ],
   "source": [
    "look_back = 1\n",
    "trainX, trainY = create_dataset(train, look_back)\n",
    "testX, testY = create_dataset(test, look_back)\n",
    "print(trainX,trainY)"
   ]
  },
  {
   "cell_type": "code",
   "execution_count": null,
   "metadata": {
    "id": "pIGJLcOi2z40"
   },
   "outputs": [],
   "source": [
    "trainX = np.reshape(trainX, (trainX.shape[0], 1, trainX.shape[1]))\n",
    "testX = np.reshape(testX, (testX.shape[0], 1, testX.shape[1]))"
   ]
  },
  {
   "cell_type": "code",
   "execution_count": null,
   "metadata": {
    "colab": {
     "base_uri": "https://localhost:8080/"
    },
    "id": "OX2dvnt823dc",
    "outputId": "c02502a5-feac-44bc-fe21-18df40fe11e1"
   },
   "outputs": [
    {
     "data": {
      "text/plain": [
       "(array([[[0.00104475]],\n",
       " \n",
       "        [[0.00104   ]],\n",
       " \n",
       "        [[0.00099251]],\n",
       " \n",
       "        [[0.00103367]],\n",
       " \n",
       "        [[0.00100043]]], dtype=float32), array([[[0.13526528]],\n",
       " \n",
       "        [[0.13531594]],\n",
       " \n",
       "        [[0.13199015]],\n",
       " \n",
       "        [[0.13097231]],\n",
       " \n",
       "        [[0.13240804]]], dtype=float32))"
      ]
     },
     "execution_count": 286,
     "metadata": {},
     "output_type": "execute_result"
    }
   ],
   "source": [
    "trainX[:5],testX[:5]"
   ]
  },
  {
   "cell_type": "code",
   "execution_count": null,
   "metadata": {
    "id": "WEMVyqFb25tF"
   },
   "outputs": [],
   "source": [
    "model = Sequential()\n",
    "model.add(LSTM(100, input_shape=(trainX.shape[1], trainX.shape[2])))\n",
    "model.add(Dense(1))\n",
    "model.compile(loss='mae', optimizer='adam')\n",
    "history = model.fit(trainX, trainY, epochs=300, batch_size=100, validation_data=(testX, testY), verbose=0, shuffle=False)"
   ]
  },
  {
   "cell_type": "code",
   "execution_count": null,
   "metadata": {
    "colab": {
     "base_uri": "https://localhost:8080/",
     "height": 1000
    },
    "id": "lvfVTq8d32I1",
    "outputId": "c530bd45-074a-493d-e381-49e1453c3bea"
   },
   "outputs": [
    {
     "name": "stdout",
     "output_type": "stream",
     "text": [
      "[[0.14134866]\n",
      " [0.14140046]\n",
      " [0.13800046]\n",
      " [0.13696001]\n",
      " [0.13842763]\n",
      " [0.13755223]\n",
      " [0.13312875]\n",
      " [0.13369174]\n",
      " [0.13210148]\n",
      " [0.13640825]\n",
      " [0.1405961 ]\n",
      " [0.14886263]\n",
      " [0.14759341]\n",
      " [0.15096736]\n",
      " [0.14840607]\n",
      " [0.14893222]\n",
      " [0.14817618]\n",
      " [0.14755614]\n",
      " [0.14589363]\n",
      " [0.15265942]\n",
      " [0.15525359]\n",
      " [0.15600826]\n",
      " [0.15725368]\n",
      " [0.16140014]\n",
      " [0.15658319]\n",
      " [0.16266367]\n",
      " [0.1640925 ]\n",
      " [0.16275437]\n",
      " [0.16434036]\n",
      " [0.15745126]\n",
      " [0.15784968]\n",
      " [0.15411031]\n",
      " [0.16151191]\n",
      " [0.15262057]\n",
      " [0.15250722]\n",
      " [0.15383664]\n",
      " [0.15337029]\n",
      " [0.15801813]\n",
      " [0.15348363]\n",
      " [0.14788966]\n",
      " [0.1395232 ]\n",
      " [0.13981931]\n",
      " [0.13785969]\n",
      " [0.1353711 ]\n",
      " [0.13531125]\n",
      " [0.14121436]\n",
      " [0.13889371]\n",
      " [0.13883705]\n",
      " [0.14373109]\n",
      " [0.144937  ]\n",
      " [0.14093922]\n",
      " [0.12712766]\n",
      " [0.12549265]\n",
      " [0.12481668]\n",
      " [0.1255266 ]\n",
      " [0.07531357]\n",
      " [0.08754753]\n",
      " [0.08106726]\n",
      " [0.08402956]\n",
      " [0.07860392]\n",
      " [0.08233216]\n",
      " [0.08395049]\n",
      " [0.09703502]\n",
      " [0.09757273]\n",
      " [0.09726433]\n",
      " [0.09138583]\n",
      " [0.10182989]\n",
      " [0.10628351]\n",
      " [0.1052221 ]\n",
      " [0.10596848]\n",
      " [0.10028744]\n",
      " [0.09803136]\n",
      " [0.0924884 ]\n",
      " [0.1005717 ]\n",
      " [0.10091895]\n",
      " [0.10456946]\n",
      " [0.10718665]\n",
      " [0.10614295]\n",
      " [0.10810597]\n",
      " [0.10673749]\n",
      " [0.11578064]\n",
      " [0.1134031 ]\n",
      " [0.11624777]\n",
      " [0.11508077]\n",
      " [0.10819807]\n",
      " [0.10827401]\n",
      " [0.10907867]\n",
      " [0.10784583]\n",
      " [0.10800093]\n",
      " [0.10441761]\n",
      " [0.11179342]\n",
      " [0.11098866]\n",
      " [0.11414008]\n",
      " [0.11239623]\n",
      " [0.1077198 ]\n",
      " [0.10786523]\n",
      " [0.11223462]\n",
      " [0.11830559]\n",
      " [0.11855293]\n",
      " [0.11914462]\n",
      " [0.12138383]\n",
      " [0.12279213]\n",
      " [0.12248331]\n",
      " [0.13904744]\n",
      " [0.13675126]\n",
      " [0.13986787]\n",
      " [0.1422097 ]\n",
      " [0.14090201]\n",
      " [0.14072722]\n",
      " [0.14277127]\n",
      " [0.14520569]\n",
      " [0.158619  ]\n",
      " [0.15580744]\n",
      " [0.15173322]\n",
      " [0.13852797]\n",
      " [0.13595521]\n",
      " [0.13974164]\n",
      " [0.14759016]\n",
      " [0.15535726]\n",
      " [0.14790262]\n",
      " [0.14889824]\n",
      " [0.15372653]\n",
      " [0.15458478]\n",
      " [0.15527463]\n",
      " [0.15104832]\n",
      " [0.14371006]\n",
      " [0.14550193]\n",
      " [0.14562008]\n",
      " [0.13835646]\n",
      " [0.14110754]\n",
      " [0.14020611]\n",
      " [0.14597781]\n",
      " [0.15201822]\n",
      " [0.14963163]\n",
      " [0.15396617]\n",
      " [0.15011735]\n",
      " [0.16201246]\n",
      " [0.15129605]\n",
      " [0.15355648]\n",
      " [0.15561634]\n",
      " [0.15297355]\n",
      " [0.15359536]\n",
      " [0.15477748]\n",
      " [0.15534914]\n",
      " [0.15520176]\n",
      " [0.1569832 ]\n",
      " [0.14733924]\n",
      " [0.1503084 ]\n",
      " [0.15038449]\n",
      " [0.14834456]\n",
      " [0.14964138]\n",
      " [0.1512297 ]\n",
      " [0.15027604]\n",
      " [0.14903747]\n",
      " [0.14783785]\n",
      " [0.14856315]\n",
      " [0.14755295]\n",
      " [0.15382369]\n",
      " [0.15286668]\n",
      " [0.14764357]\n",
      " [0.14676131]\n",
      " [0.1453449 ]\n",
      " [0.14288944]\n",
      " [0.14476217]\n",
      " [0.14575607]\n",
      " [0.1449467 ]\n",
      " [0.1464764 ]\n",
      " [0.14413251]\n",
      " [0.14384113]\n",
      " [0.14493053]\n",
      " [0.14406615]\n",
      " [0.14824256]\n",
      " [0.1468989 ]\n",
      " [0.14971422]\n",
      " [0.14657032]\n",
      " [0.14736998]\n",
      " [0.14653145]\n",
      " [0.14762415]\n",
      " [0.14669816]\n",
      " [0.14685681]\n",
      " [0.14597134]\n",
      " [0.14494507]\n",
      " [0.14527692]\n",
      " [0.14551   ]\n",
      " [0.14612189]\n",
      " [0.14538376]\n",
      " [0.14902452]\n",
      " [0.15107101]\n",
      " [0.15246189]\n",
      " [0.15160047]\n",
      " [0.15415402]\n",
      " [0.15785292]\n",
      " [0.17551813]\n",
      " [0.1736656 ]\n",
      " [0.17686506]\n",
      " [0.17670782]\n",
      " [0.18055286]\n",
      " [0.18816839]\n",
      " [0.17623128]\n",
      " [0.17878588]\n",
      " [0.17814232]\n",
      " [0.18706572]\n",
      " [0.18742245]\n",
      " [0.1847454 ]\n",
      " [0.18753922]\n",
      " [0.18619174]\n",
      " [0.18956462]\n",
      " [0.18147692]\n",
      " [0.18418117]\n",
      " [0.18764624]\n",
      " [0.1873203 ]\n",
      " [0.18885271]\n",
      " [0.18972354]\n",
      " [0.19594508]\n",
      " [0.19051169]\n",
      " [0.18731059]\n",
      " [0.18904085]\n",
      " [0.1837272 ]\n",
      " [0.18586905]\n",
      " [0.18554962]\n",
      " [0.1873641 ]\n",
      " [0.18041341]\n",
      " [0.18264256]\n",
      " [0.1804556 ]\n",
      " [0.18369803]\n",
      " [0.18273658]\n",
      " [0.186529  ]\n",
      " [0.1855918 ]\n",
      " [0.1899814 ]\n",
      " [0.18184814]\n",
      " [0.16168036]\n",
      " [0.16660045]\n",
      " [0.16043961]\n",
      " [0.16374744]\n",
      " [0.16505156]\n",
      " [0.16099678]\n",
      " [0.16258426]\n",
      " [0.16444892]\n",
      " [0.16526705]\n",
      " [0.16610469]\n",
      " [0.16422695]\n",
      " [0.16988648]\n",
      " [0.171669  ]\n",
      " [0.1743301 ]\n",
      " [0.17419721]\n",
      " [0.17406268]\n",
      " [0.17647442]\n",
      " [0.17387627]\n",
      " [0.16569799]\n",
      " [0.16755642]\n",
      " [0.16279003]\n",
      " [0.17092517]\n",
      " [0.17010522]\n",
      " [0.17073885]\n",
      " [0.17152154]\n",
      " [0.17017652]\n",
      " [0.17257005]\n",
      " [0.1715199 ]\n",
      " [0.16899848]\n",
      " [0.16821748]\n",
      " [0.16776219]\n",
      " [0.16984758]\n",
      " [0.17173706]\n",
      " [0.16870843]\n",
      " [0.16981518]\n",
      " [0.17391841]\n",
      " [0.17602707]\n",
      " [0.17998546]\n",
      " [0.18116239]\n",
      " [0.1838034 ]\n",
      " [0.18201838]\n",
      " [0.18196326]\n",
      " [0.18330242]\n",
      " [0.18036807]\n",
      " [0.18101811]\n",
      " [0.18336566]\n",
      " [0.18736248]\n",
      " [0.18995869]\n",
      " [0.20448007]\n",
      " [0.20717202]\n",
      " [0.20651485]\n",
      " [0.2094861 ]\n",
      " [0.20810671]\n",
      " [0.20858383]\n",
      " [0.21826042]\n",
      " [0.21211033]\n",
      " [0.21500425]\n",
      " [0.21667126]\n",
      " [0.22052501]\n",
      " [0.21990976]\n",
      " [0.2166956 ]\n",
      " [0.22413895]\n",
      " [0.2261799 ]\n",
      " [0.24959356]\n",
      " [0.2494441 ]\n",
      " [0.23726836]\n",
      " [0.24791355]\n",
      " [0.24537098]\n",
      " [0.24498758]\n",
      " [0.25135976]\n",
      " [0.26109225]\n",
      " [0.2615717 ]\n",
      " [0.25745672]\n",
      " [0.25553912]\n",
      " [0.26793677]\n",
      " [0.28332487]\n",
      " [0.28515095]\n",
      " [0.28562093]\n",
      " [0.29979777]\n",
      " [0.29999292]\n",
      " [0.29553145]\n",
      " [0.29498985]\n",
      " [0.3075634 ]\n",
      " [0.30057523]\n",
      " [0.27519038]\n",
      " [0.27462298]\n",
      " [0.2844371 ]\n",
      " [0.29183307]\n",
      " [0.31643796]\n",
      " [0.30135107]\n",
      " [0.30864036]\n",
      " [0.31212988]\n",
      " [0.29951957]\n",
      " [0.30746418]\n",
      " [0.31126118]\n",
      " [0.30785784]\n",
      " [0.29412785]\n",
      " [0.29769623]\n",
      " [0.29283655]\n",
      " [0.2892001 ]\n",
      " [0.30197254]\n",
      " [0.3079571 ]\n",
      " [0.30953506]\n",
      " [0.31215593]\n",
      " [0.34335425]\n",
      " [0.36733258]\n",
      " [0.3722566 ]\n",
      " [0.3839135 ]\n",
      " [0.3779051 ]\n",
      " [0.36575526]\n",
      " [0.3835749 ]\n",
      " [0.37437278]\n",
      " [0.3821636 ]\n",
      " [0.3976788 ]\n",
      " [0.42640668]\n",
      " [0.42326346]\n",
      " [0.43622813]\n",
      " [0.4414072 ]\n",
      " [0.4656992 ]\n",
      " [0.4670123 ]\n",
      " [0.4736914 ]\n",
      " [0.5197737 ]\n",
      " [0.5322183 ]\n",
      " [0.5169985 ]\n",
      " [0.54899687]\n",
      " [0.5944819 ]\n",
      " [0.63771486]\n",
      " [0.6561572 ]\n",
      " [0.64891535]\n",
      " [0.6171689 ]\n",
      " [0.57421404]\n",
      " [0.55037135]\n",
      " [0.6040357 ]\n",
      " [0.63310635]\n",
      " [0.59533525]\n",
      " [0.5819275 ]\n",
      " [0.57900757]\n",
      " [0.59156156]\n",
      " [0.581658  ]\n",
      " [0.5731102 ]\n",
      " [0.49780253]\n",
      " [0.5328944 ]\n",
      " [0.5180765 ]\n",
      " [0.52055407]\n",
      " [0.5207329 ]\n",
      " [0.5247935 ]\n",
      " [0.4906769 ]\n",
      " [0.5389771 ]\n",
      " [0.55403763]\n",
      " [0.5537338 ]\n",
      " [0.53464305]\n",
      " [0.5412665 ]\n",
      " [0.5732545 ]\n",
      " [0.6083266 ]\n",
      " [0.5975463 ]\n",
      " [0.6188774 ]\n",
      " [0.6344169 ]\n",
      " [0.6278766 ]\n",
      " [0.7497484 ]\n",
      " [0.75156677]\n",
      " [0.7246107 ]\n",
      " [0.7754163 ]\n",
      " [0.7654599 ]\n",
      " [0.7621933 ]\n",
      " [0.78590816]\n",
      " [0.77454156]\n",
      " [0.79436284]\n",
      " [0.84101355]\n",
      " [0.83305573]\n",
      " [0.90213424]\n",
      " [0.90240663]\n",
      " [0.92643726]\n",
      " [0.8735095 ]\n",
      " [0.79021084]\n",
      " [0.8028369 ]\n",
      " [0.75832725]\n",
      " [0.74894166]\n",
      " [0.7455768 ]\n",
      " [0.7299001 ]\n",
      " [0.8011996 ]\n",
      " [0.7823853 ]\n",
      " [0.8140295 ]\n",
      " [0.7824465 ]\n",
      " [0.78830373]\n",
      " [0.7893176 ]\n",
      " [0.8234441 ]\n",
      " [0.8447235 ]\n",
      " [0.88575363]\n",
      " [0.9012628 ]\n",
      " [0.9322492 ]\n",
      " [0.92375517]\n",
      " [0.98607063]\n",
      " [0.9531103 ]\n",
      " [0.9002974 ]\n",
      " [0.91778463]\n",
      " [0.94993484]\n",
      " [0.9299689 ]\n",
      " [0.9368321 ]\n",
      " [0.9369178 ]\n",
      " [0.9256423 ]\n",
      " [0.874252  ]\n",
      " [0.8789484 ]\n",
      " [0.8449541 ]\n",
      " [0.8288924 ]\n",
      " [0.88825935]\n",
      " [0.9014381 ]\n",
      " [0.89988154]\n",
      " [0.92933637]\n",
      " [0.947679  ]\n",
      " [0.94755834]\n",
      " [0.9468379 ]\n",
      " [0.95094687]\n",
      " [0.9204919 ]\n",
      " [0.938609  ]\n",
      " [0.9512022 ]\n",
      " [0.93537563]\n",
      " [0.9028048 ]\n",
      " [0.9366637 ]\n",
      " [0.93731964]\n",
      " [0.96317106]\n",
      " [0.9668192 ]\n",
      " [0.96499926]\n",
      " [1.023085  ]\n",
      " [1.0142525 ]\n",
      " [1.0179663 ]\n",
      " [0.9889854 ]\n",
      " [0.96782017]\n",
      " [0.90692025]\n",
      " [0.89798385]\n",
      " [0.911316  ]\n",
      " [0.86885256]\n",
      " [0.83541477]\n",
      " [0.8260291 ]\n",
      " [0.80911773]\n",
      " [0.7910525 ]\n",
      " [0.87205166]\n",
      " [0.8882656 ]\n",
      " [0.88515383]\n",
      " [0.8647086 ]\n",
      " [0.9309907 ]\n",
      " [0.9323699 ]\n",
      " [0.91323537]\n",
      " [0.9222398 ]\n",
      " [0.86759555]\n",
      " [0.9265564 ]\n",
      " [0.9100774 ]\n",
      " [0.92490137]\n",
      " [0.9487705 ]\n",
      " [0.9392188 ]\n",
      " [0.9012151 ]\n",
      " [0.9146979 ]\n",
      " [0.7978073 ]\n",
      " [0.80295086]\n",
      " [0.8051206 ]\n",
      " [0.7547905 ]\n",
      " [0.75024295]\n",
      " [0.7037172 ]\n",
      " [0.69331574]\n",
      " [0.5933025 ]\n",
      " [0.65806526]\n",
      " [0.6026605 ]\n",
      " [0.60510767]\n",
      " [0.5601753 ]\n",
      " [0.6262189 ]\n",
      " [0.6201854 ]\n",
      " [0.63429695]\n",
      " [0.6208176 ]\n",
      " [0.57613283]\n",
      " [0.5586309 ]\n",
      " [0.57597536]\n",
      " [0.60268   ]\n",
      " [0.59276867]\n",
      " [0.6068509 ]\n",
      " [0.6332943 ]\n",
      " [0.59542435]\n",
      " [0.57381964]\n",
      " [0.5786147 ]\n",
      " [0.5422789 ]\n",
      " [0.5391086 ]\n",
      " [0.6032248 ]\n",
      " [0.5921489 ]\n",
      " [0.6029395 ]\n",
      " [0.57296723]\n",
      " [0.630631  ]\n",
      " [0.65502596]\n",
      " [0.64898336]\n",
      " [0.61949974]\n",
      " [0.61489606]\n",
      " [0.57754344]\n",
      " [0.57371235]\n",
      " [0.5750501 ]\n",
      " [0.5116234 ]\n",
      " [0.52470094]\n",
      " [0.54384357]\n",
      " [0.55994964]\n",
      " [0.51003   ]\n",
      " [0.52058816]\n",
      " [0.5601559 ]\n",
      " [0.55686533]\n",
      " [0.57892805]\n",
      " [0.5658136 ]\n",
      " [0.5417199 ]\n",
      " [0.5461034 ]\n",
      " [0.5612001 ]\n",
      " [0.5702187 ]\n",
      " [0.5440628 ]\n",
      " [0.5527999 ]\n",
      " [0.54698735]\n",
      " [0.53071326]\n",
      " [0.54584354]\n",
      " [0.54118377]\n",
      " [0.5528339 ]\n",
      " [0.5347227 ]\n",
      " [0.528467  ]\n",
      " [0.52997214]\n",
      " [0.5140379 ]\n",
      " [0.5067779 ]\n",
      " [0.5088039 ]\n",
      " [0.5131421 ]\n",
      " [0.4977228 ]\n",
      " [0.4807507 ]\n",
      " [0.51876736]\n",
      " [0.52149034]\n",
      " [0.54269   ]\n",
      " [0.5462887 ]\n",
      " [0.571727  ]\n",
      " [0.6023232 ]\n",
      " [0.637582  ]\n",
      " [0.646508  ]\n",
      " [0.64647883]\n",
      " [0.6821023 ]\n",
      " [0.6715978 ]\n",
      " [0.64448565]\n",
      " [0.63298815]\n",
      " [0.61616546]\n",
      " [0.642196  ]\n",
      " [0.6604925 ]\n",
      " [0.6916695 ]\n",
      " [0.72103304]\n",
      " [0.70777756]\n",
      " [0.74795425]\n",
      " [0.7368288 ]\n",
      " [0.73635346]\n",
      " [0.7176322 ]\n",
      " [0.77249604]\n",
      " [0.76078993]\n",
      " [0.759338  ]\n",
      " [0.74331486]\n",
      " [0.72228163]\n",
      " [0.722801  ]\n",
      " [0.7555487 ]\n",
      " [0.79684067]\n",
      " [0.78964204]\n",
      " [0.79572463]\n",
      " [0.8003039 ]\n",
      " [0.7709777 ]\n",
      " [0.7915489 ]\n",
      " [0.75676733]\n",
      " [0.79267   ]\n",
      " [0.78998435]\n",
      " [0.7880612 ]\n",
      " [0.7593606 ]\n",
      " [0.7615769 ]\n",
      " [0.788736  ]\n",
      " [0.7960426 ]\n",
      " [0.8076754 ]\n",
      " [0.80638194]\n",
      " [0.8360409 ]\n",
      " [0.8505009 ]\n",
      " [0.7559303 ]\n",
      " [0.7443637 ]\n",
      " [0.74958587]\n",
      " [0.7247205 ]\n",
      " [0.7298662 ]\n",
      " [0.7443782 ]\n",
      " [0.72644126]\n",
      " [0.76072556]\n",
      " [0.7776658 ]\n",
      " [0.7715133 ]\n",
      " [0.76402944]\n",
      " [0.7804967 ]\n",
      " [0.7633197 ]\n",
      " [0.6928844 ]\n",
      " [0.65699875]\n",
      " [0.70388347]\n",
      " [0.72514623]\n",
      " [0.6920653 ]\n",
      " [0.6899147 ]\n",
      " [0.6982603 ]\n",
      " [0.68160456]\n",
      " [0.66300195]\n",
      " [0.67132443]\n",
      " [0.70826983]\n",
      " [0.77791345]\n",
      " [0.77020884]\n",
      " [0.77878314]\n",
      " [0.7952878 ]\n",
      " [0.83124745]\n",
      " [0.89283717]\n",
      " [0.8682728 ]\n",
      " [0.8703619 ]\n",
      " [0.8867664 ]\n",
      " [0.8827017 ]]\n"
     ]
    },
    {
     "data": {
      "image/png": "[encoded data removed]",
      "text/plain": [
       "<Figure size 1440x720 with 1 Axes>"
      ]
     },
     "metadata": {
      "needs_background": "light"
     },
     "output_type": "display_data"
    }
   ],
   "source": [
    "yhat = model.predict(testX)\n",
    "print(yhat)\n",
    "pyplot.figure(figsize=(20,10))\n",
    "pyplot.plot(yhat, label='predict')\n",
    "pyplot.plot(testY, label='true')\n",
    "pyplot.legend()\n",
    "pyplot.show()"
   ]
  },
  {
   "cell_type": "code",
   "execution_count": null,
   "metadata": {
    "id": "4iHDRmbv36Jk"
   },
   "outputs": [],
   "source": [
    "yhat_inverse = scaler.inverse_transform(yhat.reshape(-1, 1))\n",
    "testY_inverse = scaler.inverse_transform(testY.reshape(-1, 1))"
   ]
  },
  {
   "cell_type": "code",
   "execution_count": null,
   "metadata": {
    "colab": {
     "base_uri": "https://localhost:8080/"
    },
    "id": "enGI7sJo3_yE",
    "outputId": "976bd122-2096-419a-c11d-725a6308902c"
   },
   "outputs": [
    {
     "name": "stdout",
     "output_type": "stream",
     "text": [
      "Test RMSE: 1588.474\n"
     ]
    }
   ],
   "source": [
    "rmse = sqrt(mean_squared_error(testY_inverse, yhat_inverse))\n",
    "print('Test RMSE: %.3f' % rmse)"
   ]
  },
  {
   "cell_type": "code",
   "execution_count": null,
   "metadata": {
    "colab": {
     "base_uri": "https://localhost:8080/",
     "height": 592
    },
    "id": "9alI3oJl4Cu0",
    "outputId": "9d6d8b04-eeb2-4ab4-e08d-465c6231ff94"
   },
   "outputs": [
    {
     "data": {
      "image/png": "[encoded data removed]",
      "text/plain": [
       "<Figure size 1440x720 with 1 Axes>"
      ]
     },
     "metadata": {
      "needs_background": "light"
     },
     "output_type": "display_data"
    }
   ],
   "source": [
    "pyplot.figure(figsize=(20,10))\n",
    "pyplot.plot(yhat_inverse, label='predict')\n",
    "pyplot.plot(testY_inverse, label='actual', alpha=0.5)\n",
    "pyplot.legend()\n",
    "pyplot.show()"
   ]
  },
  {
   "cell_type": "code",
   "execution_count": null,
   "metadata": {
    "id": "CU-UCH9S8r-p"
   },
   "outputs": [],
   "source": [
    "predictDates = btc.tail(len(testX)).index"
   ]
  },
  {
   "cell_type": "code",
   "execution_count": null,
   "metadata": {
    "id": "QSTTI1zo8yWJ"
   },
   "outputs": [],
   "source": [
    "testY_reshape = testY_inverse.reshape(len(testY_inverse))\n",
    "yhat_reshape = yhat_inverse.reshape(len(yhat_inverse))"
   ]
  },
  {
   "cell_type": "code",
   "execution_count": null,
   "metadata": {
    "id": "HsDaP-dX86WI"
   },
   "outputs": [],
   "source": [
    "yhat_inverse"
   ]
  },
  {
   "cell_type": "code",
   "execution_count": null,
   "metadata": {
    "id": "9NDW67-J9CXR"
   },
   "outputs": [],
   "source": [
    "model.save(\"model1.h5\")"
   ]
  },
  {
   "cell_type": "code",
   "execution_count": null,
   "metadata": {
    "colab": {
     "base_uri": "https://localhost:8080/"
    },
    "id": "5dAjRIJ19HZ4",
    "outputId": "2eb68cdf-1088-4c02-953c-b5e45f5941d2"
   },
   "outputs": [
    {
     "name": "stdout",
     "output_type": "stream",
     "text": [
      "Model: \"sequential_23\"\n",
      "_________________________________________________________________\n",
      "Layer (type)                 Output Shape              Param #   \n",
      "=================================================================\n",
      "lstm_23 (LSTM)               (None, 100)               40800     \n",
      "_________________________________________________________________\n",
      "dense_23 (Dense)             (None, 1)                 101       \n",
      "=================================================================\n",
      "Total params: 40,901\n",
      "Trainable params: 40,901\n",
      "Non-trainable params: 0\n",
      "_________________________________________________________________\n"
     ]
    }
   ],
   "source": [
    "from numpy import loadtxt\n",
    "from keras.models import load_model\n",
    " \n",
    "# load model\n",
    "model1 = load_model('model1.h5')\n",
    "# summarize model.\n",
    "model1.summary()"
   ]
  },
  {
   "cell_type": "code",
   "execution_count": null,
   "metadata": {
    "colab": {
     "base_uri": "https://localhost:8080/"
    },
    "id": "QaN2axN99JkI",
    "outputId": "392ba730-6984-435e-aa22-5799434f7378"
   },
   "outputs": [
    {
     "data": {
      "text/plain": [
       "array([[0.92712826]], dtype=float32)"
      ]
     },
     "execution_count": 297,
     "metadata": {},
     "output_type": "execute_result"
    }
   ],
   "source": [
    "model1.predict([[[0.9040159 ]]])"
   ]
  },
  {
   "cell_type": "code",
   "execution_count": null,
   "metadata": {
    "colab": {
     "base_uri": "https://localhost:8080/"
    },
    "id": "2Cz3eVhvAHOI",
    "outputId": "13379a44-445e-43bf-f922-64c06e8e66a5"
   },
   "outputs": [
    {
     "name": "stdout",
     "output_type": "stream",
     "text": [
      "[[0.9040159 ]\n",
      " [0.8598577 ]\n",
      " [0.86389107]\n",
      " [0.8476214 ]\n",
      " [0.8455509 ]\n",
      " [0.86991733]\n",
      " [0.8089118 ]\n",
      " [0.7734219 ]\n",
      " [0.75716174]\n",
      " [0.74872136]]\n"
     ]
    }
   ],
   "source": [
    "print(scaled[::-1][:10])"
   ]
  },
  {
   "cell_type": "code",
   "execution_count": null,
   "metadata": {
    "id": "YTRPrGjZAKGT"
   },
   "outputs": [],
   "source": [
    "yhat1=[]\n",
    "prev=0.9040159\n",
    "#50 means next 50 days from 11th OCT 2021\n",
    "for i in range(0,50):\n",
    "  x=model1.predict([[[prev]]])\n",
    "  yhat1.append(x[0][0])\n",
    "  prev=x[0][0].item()"
   ]
  },
  {
   "cell_type": "code",
   "execution_count": null,
   "metadata": {
    "colab": {
     "base_uri": "https://localhost:8080/"
    },
    "id": "_9OKP0llCqMd",
    "outputId": "8e074691-82e8-439a-d2c8-62e2f8b9067d"
   },
   "outputs": [
    {
     "name": "stdout",
     "output_type": "stream",
     "text": [
      "[0.92712826, 0.95031345, 0.9735225, 0.9967034, 1.0198041, 1.0427703, 1.0655477, 1.0880815, 1.1103185, 1.1322064, 1.1536947, 1.1747358, 1.195285, 1.215301, 1.2347476, 1.2535914, 1.2718047, 1.2893646, 1.3062522, 1.3224545, 1.3379631, 1.3527734, 1.3668853, 1.3803034, 1.393036, 1.4050939, 1.4164912, 1.4272451, 1.4373745, 1.4469005, 1.4558449, 1.4642308, 1.4720825, 1.4794245, 1.4862819, 1.4926789, 1.4986402, 1.5041898, 1.5093513, 1.5141476, 1.518601, 1.5227326, 1.5265635, 1.5301124, 1.5333985, 1.5364393, 1.5392524, 1.5418526, 1.5442553, 1.546475]\n"
     ]
    }
   ],
   "source": [
    "print(yhat1)"
   ]
  },
  {
   "cell_type": "code",
   "execution_count": null,
   "metadata": {
    "id": "0PhWrfh2CrTu"
   },
   "outputs": [],
   "source": [
    "yhat1=np.array(yhat1)"
   ]
  },
  {
   "cell_type": "code",
   "execution_count": null,
   "metadata": {
    "id": "d9L8mKPSVuNF"
   },
   "outputs": [],
   "source": [
    "yhat1_inverse = scaler.inverse_transform(yhat1.reshape(-1, 1))"
   ]
  },
  {
   "cell_type": "code",
   "execution_count": null,
   "metadata": {
    "colab": {
     "base_uri": "https://localhost:8080/"
    },
    "id": "87luq8qIVxRy",
    "outputId": "daa4c49c-9c1d-4c71-ccf9-a060ebf69f47"
   },
   "outputs": [
    {
     "data": {
      "text/plain": [
       "array([[58937.38 ],\n",
       "       [60402.055],\n",
       "       [61868.234],\n",
       "       [63332.64 ],\n",
       "       [64791.98 ],\n",
       "       [66242.82 ],\n",
       "       [67681.734],\n",
       "       [69105.26 ],\n",
       "       [70510.04 ],\n",
       "       [71892.76 ],\n",
       "       [73250.24 ],\n",
       "       [74579.46 ],\n",
       "       [75877.61 ],\n",
       "       [77142.086],\n",
       "       [78370.586],\n",
       "       [79561.   ],\n",
       "       [80711.586],\n",
       "       [81820.9  ],\n",
       "       [82887.734],\n",
       "       [83911.28 ],\n",
       "       [84891.01 ],\n",
       "       [85826.62 ],\n",
       "       [86718.1  ],\n",
       "       [87565.766],\n",
       "       [88370.12 ],\n",
       "       [89131.85 ],\n",
       "       [89851.85 ],\n",
       "       [90531.21 ],\n",
       "       [91171.11 ],\n",
       "       [91772.89 ],\n",
       "       [92337.94 ],\n",
       "       [92867.695],\n",
       "       [93363.72 ],\n",
       "       [93827.53 ],\n",
       "       [94260.734],\n",
       "       [94664.85 ],\n",
       "       [95041.44 ],\n",
       "       [95392.03 ],\n",
       "       [95718.09 ],\n",
       "       [96021.09 ],\n",
       "       [96302.42 ],\n",
       "       [96563.43 ],\n",
       "       [96805.44 ],\n",
       "       [97029.63 ],\n",
       "       [97237.23 ],\n",
       "       [97429.32 ],\n",
       "       [97607.03 ],\n",
       "       [97771.3  ],\n",
       "       [97923.08 ],\n",
       "       [98063.305]], dtype=float32)"
      ]
     },
     "execution_count": 303,
     "metadata": {},
     "output_type": "execute_result"
    }
   ],
   "source": [
    "yhat1_inverse\n",
    "#(11th OCT to apna date)"
   ]
  }
 ],
 "metadata": {
  "colab": {
   "collapsed_sections": [],
   "name": "BTC.ipynb",
   "provenance": []
  },
  "kernelspec": {
   "display_name": "Python 3 (ipykernel)",
   "language": "python",
   "name": "python3"
  },
  "language_info": {
   "codemirror_mode": {
    "name": "ipython",
    "version": 3
   },
   "file_extension": ".py",
   "mimetype": "text/x-python",
   "name": "python",
   "nbconvert_exporter": "python",
   "pygments_lexer": "ipython3",
   "version": "3.9.5"
  }
 },
 "nbformat": 4,
 "nbformat_minor": 4
}
